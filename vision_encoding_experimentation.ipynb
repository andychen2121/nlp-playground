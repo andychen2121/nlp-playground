{
 "cells": [
  {
   "cell_type": "markdown",
   "id": "84d14091-bbcb-4235-81e8-8daa40fb4c6e",
   "metadata": {},
   "source": [
    "resources:\n",
    "- medflamingo: https://github.com/mlfoundations/open_flamingo/blob/main/open_flamingo/src/flamingo.py\n",
    "- medblip: https://github.com/Qybc/MedBLIP/blob/main/medblip/eva_vit.py"
   ]
  },
  {
   "cell_type": "code",
   "execution_count": null,
   "id": "1c8eefd3-47d3-41a0-8627-d8a133744a6e",
   "metadata": {},
   "outputs": [],
   "source": []
  }
 ],
 "metadata": {
  "kernelspec": {
   "display_name": "Python 3 (ipykernel)",
   "language": "python",
   "name": "python3"
  },
  "language_info": {
   "codemirror_mode": {
    "name": "ipython",
    "version": 3
   },
   "file_extension": ".py",
   "mimetype": "text/x-python",
   "name": "python",
   "nbconvert_exporter": "python",
   "pygments_lexer": "ipython3",
   "version": "3.11.5"
  }
 },
 "nbformat": 4,
 "nbformat_minor": 5
}
