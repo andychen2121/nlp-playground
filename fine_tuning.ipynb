{
 "cells": [
  {
   "cell_type": "markdown",
   "id": "eb5f8541-817b-4247-a115-597c97c8f0ee",
   "metadata": {},
   "source": [
    "resources:\n",
    "- https://huggingface.co/docs/transformers/training\n",
    "- Universal Language Model Fine-Tuning for Text Classification: https://arxiv.org/abs/1801.06146\n",
    "- https://learn.deeplearning.ai/finetuning-large-language-models"
   ]
  },
  {
   "cell_type": "markdown",
   "id": "795eb87e-4777-49c6-8cdb-dc757c0e9395",
   "metadata": {},
   "source": [
    "### Imports"
   ]
  },
  {
   "cell_type": "code",
   "execution_count": 1,
   "id": "f2bfd3ec-8a81-4f8c-8ef5-bb3d30d87884",
   "metadata": {},
   "outputs": [],
   "source": [
    "import datasets\n",
    "import tempfile\n",
    "import logging\n",
    "import random\n",
    "import config # need to also pip install python-configuration if created in a new env\n",
    "import os\n",
    "import yaml\n",
    "import logging\n",
    "import difflib\n",
    "import pandas as pd\n",
    "from datetime import datetime\n",
    "from pprint import pprint\n",
    "\n",
    "import transformers\n",
    "import datasets\n",
    "import torch\n",
    "\n",
    "from tqdm import tqdm\n",
    "from transformers import AutoTokenizer, AutoModelForCausalLM, TrainingArguments\n",
    "\n",
    "from utilities import *\n",
    "\n",
    "logger = logging.getLogger(__name__)\n",
    "global_config = None"
   ]
  },
  {
   "cell_type": "markdown",
   "id": "f62a6f80-4f09-4f8b-9e84-0afaac92afe0",
   "metadata": {
    "jp-MarkdownHeadingCollapsed": true
   },
   "source": [
    "### Instruction Fine Tuning - Dataset Setup\n",
    "TODO: load dataset first - currently not formatting"
   ]
  },
  {
   "cell_type": "code",
   "execution_count": 27,
   "id": "42b1dd62-ad11-4494-a27c-ce260d311865",
   "metadata": {},
   "outputs": [],
   "source": [
    "# instruction and input templates\n",
    "# for other tasks, can format instruction template. contant for this dataset\n",
    "instruction_template = \"Answer the following multiple-choice question.\"\n",
    "input_template = \"\"\"\n",
    "### Question: {question} \n",
    "### Answers: \n",
    "# {a}\n",
    "# {b} \n",
    "# {c} \n",
    "# {d}\n",
    "\"\"\""
   ]
  },
  {
   "cell_type": "code",
   "execution_count": 23,
   "id": "4eeebf44-04db-4de1-ac42-7945243e79be",
   "metadata": {},
   "outputs": [],
   "source": [
    "# prompt templates\n",
    "\n",
    "prompt_template_with_input = \"\"\"Below is an instruction that describes a task, paired with inputs that provide further context. Write a response that appropriately completes the request.\n",
    "\n",
    "### Instruction:\n",
    "{instruction}\n",
    "\n",
    "### Input:\n",
    "{input}\n",
    "\n",
    "### Response:\"\"\"\n",
    "\n",
    "prompt_template_without_input = \"\"\"Below is an instruction that describes a task. Write a response that appropriately completes the request.\n",
    "\n",
    "### Instruction:\n",
    "{instruction}\n",
    "\n",
    "### Response:\"\"\""
   ]
  },
  {
   "cell_type": "code",
   "execution_count": 42,
   "id": "e7a08c34-b3c3-4ac5-824d-5aee6620aea6",
   "metadata": {},
   "outputs": [],
   "source": [
    "# hydrating dataset with instruction prompts\n",
    "\n",
    "def hydrate(dataset):\n",
    "    processed_data = []\n",
    "    \n",
    "    for row in dataset:\n",
    "        # input hydration\n",
    "        input = input_template.format(\n",
    "            question = row['question'],\n",
    "            a = row['opa'],\n",
    "            b = row['opb'],\n",
    "            c = row['opc'],\n",
    "            d = row['opd']\n",
    "        )\n",
    "        # prompt hydration\n",
    "        if row['cop'] == -1 or not row['exp']: # test dataset\n",
    "            continue\n",
    "        else: # training and val datasets\n",
    "            processed_prompt = prompt_template_with_input.format(instruction=instruction_template, input=input)\n",
    "        \n",
    "        processed_data.append({\"input\": processed_prompt, \"output\": str(row['cop']) + ': ' + row['exp']})\n",
    "\n",
    "    return processed_data\n",
    "\n",
    "\n",
    "processed_data = hydrate(train_dataset)"
   ]
  },
  {
   "cell_type": "code",
   "execution_count": 43,
   "id": "8a3c5c80-94b7-4c78-a043-8021055344a2",
   "metadata": {},
   "outputs": [
    {
     "name": "stdout",
     "output_type": "stream",
     "text": [
      "{'input': 'Below is an instruction that describes a task, paired with inputs '\n",
      "          'that provide further context. Write a response that appropriately '\n",
      "          'completes the request.\\n'\n",
      "          '\\n'\n",
      "          '### Instruction:\\n'\n",
      "          'Answer the following multiple-choice question.\\n'\n",
      "          '\\n'\n",
      "          '### Input:\\n'\n",
      "          '\\n'\n",
      "          '### Question: Chronic urethral obstruction due to benign prismatic '\n",
      "          'hyperplasia can lead to the following change in kidney parenchyma \\n'\n",
      "          '### Answers: \\n'\n",
      "          '# Hyperplasia\\n'\n",
      "          '# Hyperophy \\n'\n",
      "          '# Atrophy \\n'\n",
      "          '# Dyplasia\\n'\n",
      "          '\\n'\n",
      "          '\\n'\n",
      "          '### Response:',\n",
      " 'output': '2: Chronic urethral obstruction because of urinary calculi, '\n",
      "           'prostatic hyperophy, tumors, normal pregnancy, tumors, uterine '\n",
      "           'prolapse or functional disorders cause hydronephrosis which by '\n",
      "           'definition is used to describe dilatation of renal pelvis and '\n",
      "           'calculus associated with progressive atrophy of the kidney due to '\n",
      "           'obstruction to the outflow of urine Refer Robbins 7yh/9,1012,9/e. '\n",
      "           'P950'}\n"
     ]
    }
   ],
   "source": [
    "pprint(processed_data[0])"
   ]
  },
  {
   "cell_type": "markdown",
   "id": "a76de736-f560-4eb1-b285-2b54d3ee56bf",
   "metadata": {},
   "source": [
    "### Set Up Training Config & Dataset"
   ]
  },
  {
   "cell_type": "code",
   "execution_count": 2,
   "id": "54aadc5a-59b2-4615-acd4-890390e39e95",
   "metadata": {},
   "outputs": [],
   "source": [
    "# training on https://huggingface.co/datasets/medmcqa?row=0 dataset\n",
    "dataset_path = \"medmcqa\"\n",
    "use_hf = True"
   ]
  },
  {
   "cell_type": "code",
   "execution_count": 3,
   "id": "5a4d56fe-f1cc-4c27-b9f2-c46b67a685b6",
   "metadata": {},
   "outputs": [],
   "source": [
    "# base llama model\n",
    "model_name = \"EleutherAI/pythia-410m\""
   ]
  },
  {
   "cell_type": "code",
   "execution_count": 4,
   "id": "77218619-17a7-4f44-a663-23ca7fb10db8",
   "metadata": {},
   "outputs": [],
   "source": [
    "training_config = {\n",
    "    \"model\": {\n",
    "        \"pretrained_name\": model_name,\n",
    "        \"max_length\" : 2048\n",
    "    },\n",
    "    \"datasets\": {\n",
    "        \"use_hf\": use_hf,\n",
    "        \"path\": dataset_path # TODO - just use local df with instruction prompt\n",
    "    },\n",
    "    \"verbose\": True\n",
    "}"
   ]
  },
  {
   "cell_type": "code",
   "execution_count": 5,
   "id": "4d6c62a2-3acb-4cdb-af46-b7e29f6ca82d",
   "metadata": {},
   "outputs": [
    {
     "name": "stderr",
     "output_type": "stream",
     "text": [
      "2023-12-01 13:30:29,145 - DEBUG - utilities - Config: datasets.path: medmcqa\n",
      "datasets.use_hf: true\n",
      "model.max_length: 2048\n",
      "model.pretrained_name: EleutherAI/pythia-410m\n",
      "verbose: true\n",
      "\n"
     ]
    },
    {
     "name": "stdout",
     "output_type": "stream",
     "text": [
      "tokenize True medmcqa\n"
     ]
    },
    {
     "name": "stderr",
     "output_type": "stream",
     "text": [
      "2023-12-01 13:30:30,105 - DEBUG - fsspec.local - open file: /Users/andychen2121/.cache/huggingface/datasets/medmcqa/default/1.1.0/f2fdfa9ccfbf9d148c0639e6afe3379f3c7e95c4d52d5e68ec1156e5004bd880/dataset_info.json\n",
      "2023-12-01 13:30:30,142 - DEBUG - fsspec.local - open file: /Users/andychen2121/.cache/huggingface/datasets/medmcqa/default/1.1.0/f2fdfa9ccfbf9d148c0639e6afe3379f3c7e95c4d52d5e68ec1156e5004bd880/dataset_info.json\n"
     ]
    },
    {
     "name": "stdout",
     "output_type": "stream",
     "text": [
      "Dataset({\n",
      "    features: ['id', 'question', 'opa', 'opb', 'opc', 'opd', 'cop', 'choice_type', 'exp', 'subject_name', 'topic_name'],\n",
      "    num_rows: 182822\n",
      "})\n",
      "Dataset({\n",
      "    features: ['id', 'question', 'opa', 'opb', 'opc', 'opd', 'cop', 'choice_type', 'exp', 'subject_name', 'topic_name'],\n",
      "    num_rows: 6150\n",
      "})\n",
      "Dataset({\n",
      "    features: ['id', 'question', 'opa', 'opb', 'opc', 'opd', 'cop', 'choice_type', 'exp', 'subject_name', 'topic_name'],\n",
      "    num_rows: 4183\n",
      "})\n"
     ]
    }
   ],
   "source": [
    "tokenizer = AutoTokenizer.from_pretrained(model_name)\n",
    "tokenizer.pad_token = tokenizer.eos_token\n",
    "train_dataset, test_dataset, val_dataset = tokenize_and_split_data(training_config, tokenizer) # from utilities.py\n",
    "\n",
    "print(train_dataset)\n",
    "print(test_dataset)\n",
    "print(val_dataset)"
   ]
  },
  {
   "cell_type": "code",
   "execution_count": 27,
   "id": "e85df6ed-0d48-438f-a430-a8776704a4cc",
   "metadata": {
    "scrolled": true
   },
   "outputs": [
    {
     "name": "stdout",
     "output_type": "stream",
     "text": [
      "[0 2 1 3]\n"
     ]
    },
    {
     "data": {
      "text/html": [
       "<div>\n",
       "<style scoped>\n",
       "    .dataframe tbody tr th:only-of-type {\n",
       "        vertical-align: middle;\n",
       "    }\n",
       "\n",
       "    .dataframe tbody tr th {\n",
       "        vertical-align: top;\n",
       "    }\n",
       "\n",
       "    .dataframe thead th {\n",
       "        text-align: right;\n",
       "    }\n",
       "</style>\n",
       "<table border=\"1\" class=\"dataframe\">\n",
       "  <thead>\n",
       "    <tr style=\"text-align: right;\">\n",
       "      <th></th>\n",
       "      <th>id</th>\n",
       "      <th>question</th>\n",
       "      <th>opa</th>\n",
       "      <th>opb</th>\n",
       "      <th>opc</th>\n",
       "      <th>opd</th>\n",
       "      <th>cop</th>\n",
       "      <th>choice_type</th>\n",
       "      <th>exp</th>\n",
       "      <th>subject_name</th>\n",
       "      <th>topic_name</th>\n",
       "    </tr>\n",
       "  </thead>\n",
       "  <tbody>\n",
       "    <tr>\n",
       "      <th>0</th>\n",
       "      <td>45258d3d-b974-44dd-a161-c3fccbdadd88</td>\n",
       "      <td>Which of the following is not true for myelina...</td>\n",
       "      <td>Impulse through myelinated fibers is slower th...</td>\n",
       "      <td>Membrane currents are generated at nodes of Ra...</td>\n",
       "      <td>Saltatory conduction of impulses is seen</td>\n",
       "      <td>Local anesthesia is effective only when the ne...</td>\n",
       "      <td>0</td>\n",
       "      <td>multi</td>\n",
       "      <td>None</td>\n",
       "      <td>Physiology</td>\n",
       "      <td>None</td>\n",
       "    </tr>\n",
       "    <tr>\n",
       "      <th>1</th>\n",
       "      <td>b944ada9-d776-4c2a-9180-3ae5f393f72d</td>\n",
       "      <td>Which of the following is not true about glome...</td>\n",
       "      <td>The oncotic pressure of the fluid leaving the ...</td>\n",
       "      <td>Glucose concentration in the capillaries is th...</td>\n",
       "      <td>Constriction of afferent aeriole decreases the...</td>\n",
       "      <td>Hematocrit of the fluid leaving the capillarie...</td>\n",
       "      <td>0</td>\n",
       "      <td>multi</td>\n",
       "      <td>Ans-a. The oncotic pressure of the fluid leavi...</td>\n",
       "      <td>Physiology</td>\n",
       "      <td>None</td>\n",
       "    </tr>\n",
       "    <tr>\n",
       "      <th>2</th>\n",
       "      <td>b64a9cd7-d076-4c55-8be1-f9c44fece6cc</td>\n",
       "      <td>A 29 yrs old woman with a pregnancy of 17 week...</td>\n",
       "      <td>No test is required now as her age is below 35...</td>\n",
       "      <td>Ultra sound at this point of time will definit...</td>\n",
       "      <td>Amniotic fluid samples plus chromosomal analys...</td>\n",
       "      <td>blood screening at this point of time will cle...</td>\n",
       "      <td>2</td>\n",
       "      <td>single</td>\n",
       "      <td>None</td>\n",
       "      <td>Medicine</td>\n",
       "      <td>None</td>\n",
       "    </tr>\n",
       "    <tr>\n",
       "      <th>3</th>\n",
       "      <td>c6365cce-507c-40f6-90a2-46b867f47b6e</td>\n",
       "      <td>Axonal transport is:</td>\n",
       "      <td>Antegrade</td>\n",
       "      <td>Retrograde</td>\n",
       "      <td>Antegrade and retrograde</td>\n",
       "      <td>None</td>\n",
       "      <td>2</td>\n",
       "      <td>multi</td>\n",
       "      <td>Fast anterograde (400 mm/day) transport occurs...</td>\n",
       "      <td>Physiology</td>\n",
       "      <td>None</td>\n",
       "    </tr>\n",
       "    <tr>\n",
       "      <th>4</th>\n",
       "      <td>72c1c5e0-b64f-4eef-bf22-ecfb60c5c19c</td>\n",
       "      <td>Low insulin to glucagon ratio is seen in all o...</td>\n",
       "      <td>Glycogen synthesis</td>\n",
       "      <td>Glycogen breakdown</td>\n",
       "      <td>Gluconeogenesis</td>\n",
       "      <td>Ketogenesis</td>\n",
       "      <td>0</td>\n",
       "      <td>multi</td>\n",
       "      <td>Answer- A. Glycogen synthesisLow insulin to gl...</td>\n",
       "      <td>Biochemistry</td>\n",
       "      <td>None</td>\n",
       "    </tr>\n",
       "    <tr>\n",
       "      <th>5</th>\n",
       "      <td>17360c6c-2c98-4fe2-aa85-487dcf4678df</td>\n",
       "      <td>Concentration of tropicamide:</td>\n",
       "      <td>0.01</td>\n",
       "      <td>0.02</td>\n",
       "      <td>0.03</td>\n",
       "      <td>0.04</td>\n",
       "      <td>0</td>\n",
       "      <td>single</td>\n",
       "      <td>Answer- A. 0.01Tropicamide is the shoest actin...</td>\n",
       "      <td>Ophthalmology</td>\n",
       "      <td>None</td>\n",
       "    </tr>\n",
       "    <tr>\n",
       "      <th>6</th>\n",
       "      <td>62fa6f78-1964-4249-974b-6fcbbd7fc9ba</td>\n",
       "      <td>Which of the following statements is true rega...</td>\n",
       "      <td>Pregnant woman with sore throat can be staed i...</td>\n",
       "      <td>People on long-term steroids cannot receive Os...</td>\n",
       "      <td>Category B concerns with low risk cases</td>\n",
       "      <td>Category B patients have to undergo immediate ...</td>\n",
       "      <td>0</td>\n",
       "      <td>multi</td>\n",
       "      <td>Ans: A. Pregnant woman with sore throat can be...</td>\n",
       "      <td>Medicine</td>\n",
       "      <td>None</td>\n",
       "    </tr>\n",
       "    <tr>\n",
       "      <th>7</th>\n",
       "      <td>ce49098b-cc48-4168-859e-936e3e0c7459</td>\n",
       "      <td>Which of the following are not a branch of ext...</td>\n",
       "      <td>Sphenopalatine aery</td>\n",
       "      <td>Anterior ethmoidal aery</td>\n",
       "      <td>Greater palatine aery</td>\n",
       "      <td>Septal branch of superior labial aery</td>\n",
       "      <td>1</td>\n",
       "      <td>single</td>\n",
       "      <td>*Kiesselbach's plexus: Antero superior pa is s...</td>\n",
       "      <td>Anatomy</td>\n",
       "      <td>AIIMS 2017</td>\n",
       "    </tr>\n",
       "    <tr>\n",
       "      <th>8</th>\n",
       "      <td>18d5c4a1-cb81-41a8-9bfc-b6f7dec431d2</td>\n",
       "      <td>Diagnosis of the following ECG-</td>\n",
       "      <td>Ventricular bigeminy</td>\n",
       "      <td>Electrical alternans</td>\n",
       "      <td>P pulmonale</td>\n",
       "      <td>Left ventricular failure</td>\n",
       "      <td>1</td>\n",
       "      <td>single</td>\n",
       "      <td>Option A- Broad QRS complex with normal sinus ...</td>\n",
       "      <td>Medicine</td>\n",
       "      <td>AIIMS 2017</td>\n",
       "    </tr>\n",
       "    <tr>\n",
       "      <th>9</th>\n",
       "      <td>de09d388-bd4e-42a9-ac6b-ee2d95f822e2</td>\n",
       "      <td>A blue new born presents with cyanosis. The X–...</td>\n",
       "      <td>Ebstein's anomaly</td>\n",
       "      <td>Pulmonary atresia</td>\n",
       "      <td>Transposition of great arteries</td>\n",
       "      <td>Tetralogy of fallot</td>\n",
       "      <td>1</td>\n",
       "      <td>multi</td>\n",
       "      <td>The findings in this newborn are\\nCyanosis at ...</td>\n",
       "      <td>Pediatrics</td>\n",
       "      <td>None</td>\n",
       "    </tr>\n",
       "  </tbody>\n",
       "</table>\n",
       "</div>"
      ],
      "text/plain": [
       "                                     id  \\\n",
       "0  45258d3d-b974-44dd-a161-c3fccbdadd88   \n",
       "1  b944ada9-d776-4c2a-9180-3ae5f393f72d   \n",
       "2  b64a9cd7-d076-4c55-8be1-f9c44fece6cc   \n",
       "3  c6365cce-507c-40f6-90a2-46b867f47b6e   \n",
       "4  72c1c5e0-b64f-4eef-bf22-ecfb60c5c19c   \n",
       "5  17360c6c-2c98-4fe2-aa85-487dcf4678df   \n",
       "6  62fa6f78-1964-4249-974b-6fcbbd7fc9ba   \n",
       "7  ce49098b-cc48-4168-859e-936e3e0c7459   \n",
       "8  18d5c4a1-cb81-41a8-9bfc-b6f7dec431d2   \n",
       "9  de09d388-bd4e-42a9-ac6b-ee2d95f822e2   \n",
       "\n",
       "                                            question  \\\n",
       "0  Which of the following is not true for myelina...   \n",
       "1  Which of the following is not true about glome...   \n",
       "2  A 29 yrs old woman with a pregnancy of 17 week...   \n",
       "3                               Axonal transport is:   \n",
       "4  Low insulin to glucagon ratio is seen in all o...   \n",
       "5                      Concentration of tropicamide:   \n",
       "6  Which of the following statements is true rega...   \n",
       "7  Which of the following are not a branch of ext...   \n",
       "8                    Diagnosis of the following ECG-   \n",
       "9  A blue new born presents with cyanosis. The X–...   \n",
       "\n",
       "                                                 opa  \\\n",
       "0  Impulse through myelinated fibers is slower th...   \n",
       "1  The oncotic pressure of the fluid leaving the ...   \n",
       "2  No test is required now as her age is below 35...   \n",
       "3                                          Antegrade   \n",
       "4                                 Glycogen synthesis   \n",
       "5                                               0.01   \n",
       "6  Pregnant woman with sore throat can be staed i...   \n",
       "7                                Sphenopalatine aery   \n",
       "8                               Ventricular bigeminy   \n",
       "9                                  Ebstein's anomaly   \n",
       "\n",
       "                                                 opb  \\\n",
       "0  Membrane currents are generated at nodes of Ra...   \n",
       "1  Glucose concentration in the capillaries is th...   \n",
       "2  Ultra sound at this point of time will definit...   \n",
       "3                                         Retrograde   \n",
       "4                                 Glycogen breakdown   \n",
       "5                                               0.02   \n",
       "6  People on long-term steroids cannot receive Os...   \n",
       "7                            Anterior ethmoidal aery   \n",
       "8                               Electrical alternans   \n",
       "9                                  Pulmonary atresia   \n",
       "\n",
       "                                                 opc  \\\n",
       "0           Saltatory conduction of impulses is seen   \n",
       "1  Constriction of afferent aeriole decreases the...   \n",
       "2  Amniotic fluid samples plus chromosomal analys...   \n",
       "3                           Antegrade and retrograde   \n",
       "4                                    Gluconeogenesis   \n",
       "5                                               0.03   \n",
       "6            Category B concerns with low risk cases   \n",
       "7                              Greater palatine aery   \n",
       "8                                        P pulmonale   \n",
       "9                    Transposition of great arteries   \n",
       "\n",
       "                                                 opd  cop choice_type  \\\n",
       "0  Local anesthesia is effective only when the ne...    0       multi   \n",
       "1  Hematocrit of the fluid leaving the capillarie...    0       multi   \n",
       "2  blood screening at this point of time will cle...    2      single   \n",
       "3                                               None    2       multi   \n",
       "4                                        Ketogenesis    0       multi   \n",
       "5                                               0.04    0      single   \n",
       "6  Category B patients have to undergo immediate ...    0       multi   \n",
       "7              Septal branch of superior labial aery    1      single   \n",
       "8                           Left ventricular failure    1      single   \n",
       "9                                Tetralogy of fallot    1       multi   \n",
       "\n",
       "                                                 exp   subject_name  \\\n",
       "0                                               None     Physiology   \n",
       "1  Ans-a. The oncotic pressure of the fluid leavi...     Physiology   \n",
       "2                                               None       Medicine   \n",
       "3  Fast anterograde (400 mm/day) transport occurs...     Physiology   \n",
       "4  Answer- A. Glycogen synthesisLow insulin to gl...   Biochemistry   \n",
       "5  Answer- A. 0.01Tropicamide is the shoest actin...  Ophthalmology   \n",
       "6  Ans: A. Pregnant woman with sore throat can be...       Medicine   \n",
       "7  *Kiesselbach's plexus: Antero superior pa is s...        Anatomy   \n",
       "8  Option A- Broad QRS complex with normal sinus ...       Medicine   \n",
       "9  The findings in this newborn are\\nCyanosis at ...     Pediatrics   \n",
       "\n",
       "   topic_name  \n",
       "0        None  \n",
       "1        None  \n",
       "2        None  \n",
       "3        None  \n",
       "4        None  \n",
       "5        None  \n",
       "6        None  \n",
       "7  AIIMS 2017  \n",
       "8  AIIMS 2017  \n",
       "9        None  "
      ]
     },
     "execution_count": 27,
     "metadata": {},
     "output_type": "execute_result"
    }
   ],
   "source": [
    "# manual inference on dataset\n",
    "# might be worth only evaluating answers with explanations\n",
    "print(val_dataset.to_pandas()['cop'].unique())\n",
    "val_dataset.to_pandas().head(10)"
   ]
  },
  {
   "cell_type": "markdown",
   "id": "1eb1481e-1afa-4953-b371-94afe74c00dd",
   "metadata": {},
   "source": [
    "### Load Model"
   ]
  },
  {
   "cell_type": "code",
   "execution_count": 7,
   "id": "d2988e79-c3a7-42cc-83ba-e85a12c63991",
   "metadata": {},
   "outputs": [
    {
     "data": {
      "text/plain": [
       "GPTNeoXForCausalLM(\n",
       "  (gpt_neox): GPTNeoXModel(\n",
       "    (embed_in): Embedding(50304, 1024)\n",
       "    (emb_dropout): Dropout(p=0.0, inplace=False)\n",
       "    (layers): ModuleList(\n",
       "      (0-23): 24 x GPTNeoXLayer(\n",
       "        (input_layernorm): LayerNorm((1024,), eps=1e-05, elementwise_affine=True)\n",
       "        (post_attention_layernorm): LayerNorm((1024,), eps=1e-05, elementwise_affine=True)\n",
       "        (post_attention_dropout): Dropout(p=0.0, inplace=False)\n",
       "        (post_mlp_dropout): Dropout(p=0.0, inplace=False)\n",
       "        (attention): GPTNeoXAttention(\n",
       "          (rotary_emb): GPTNeoXRotaryEmbedding()\n",
       "          (query_key_value): Linear(in_features=1024, out_features=3072, bias=True)\n",
       "          (dense): Linear(in_features=1024, out_features=1024, bias=True)\n",
       "          (attention_dropout): Dropout(p=0.0, inplace=False)\n",
       "        )\n",
       "        (mlp): GPTNeoXMLP(\n",
       "          (dense_h_to_4h): Linear(in_features=1024, out_features=4096, bias=True)\n",
       "          (dense_4h_to_h): Linear(in_features=4096, out_features=1024, bias=True)\n",
       "          (act): GELUActivation()\n",
       "        )\n",
       "      )\n",
       "    )\n",
       "    (final_layer_norm): LayerNorm((1024,), eps=1e-05, elementwise_affine=True)\n",
       "  )\n",
       "  (embed_out): Linear(in_features=1024, out_features=50304, bias=False)\n",
       ")"
      ]
     },
     "execution_count": 7,
     "metadata": {},
     "output_type": "execute_result"
    }
   ],
   "source": [
    "base_model = AutoModelForCausalLM.from_pretrained(model_name)\n",
    "device = torch.device(\"cuda\" if torch.cuda.is_available() else \"cpu\")\n",
    "base_model.to(device)"
   ]
  },
  {
   "cell_type": "markdown",
   "id": "1de585d0-84f1-4056-8dc6-032fa945ba21",
   "metadata": {},
   "source": [
    "### Inference"
   ]
  },
  {
   "cell_type": "code",
   "execution_count": 8,
   "id": "9e22cad4-3eba-41b5-a50f-367ffa75081e",
   "metadata": {},
   "outputs": [],
   "source": [
    "def inference(text, model, tokenizer, max_input_tokens = 1000, max_output_tokens = 100):\n",
    "    # Tokenize\n",
    "    input_ids = tokenizer.encode(\n",
    "        text, \n",
    "        return_tensors = \"pt\",\n",
    "        truncation = True,\n",
    "        max_length = max_input_tokens\n",
    "    )\n",
    "    # Generate\n",
    "    device = model.device\n",
    "    generated_output_with_prompt = model.generate(\n",
    "        input_ids = input_ids.to(device),\n",
    "        max_length = max_output_tokens\n",
    "    )\n",
    "    # Decode\n",
    "    generated_text_with_prompt = tokenizer.batch_decode( # batch decode\n",
    "        generated_output_with_prompt, \n",
    "        skip_special_tokens = True\n",
    "    )\n",
    "    generated_text_answer = generated_text_with_prompt[0][len(text):]\n",
    "    \n",
    "    return generated_text_answer"
   ]
  },
  {
   "cell_type": "code",
   "execution_count": 9,
   "id": "43273ff7-ad3d-41a4-a01c-06ae95fcce17",
   "metadata": {},
   "outputs": [
    {
     "name": "stderr",
     "output_type": "stream",
     "text": [
      "The attention mask and the pad token id were not set. As a consequence, you may observe unexpected behavior. Please pass your input's `attention_mask` to obtain reliable results.\n",
      "Setting `pad_token_id` to `eos_token_id`:0 for open-end generation.\n"
     ]
    },
    {
     "name": "stdout",
     "output_type": "stream",
     "text": [
      "Question input (test): Which of the following is not true for myelinated nerve fibers:\n",
      "Correct answer: 0, None\n",
      "Model's answer: \n",
      "\n",
      "\n",
      "1.  The myelinated nerve fibers are not myelinated.\n",
      "\n",
      "2.  The myelinated nerve fibers are not myelinated.\n",
      "\n",
      "3.  The myelinated nerve fibers are not myelinated.\n",
      "\n",
      "4.  The myelinated nerve fibers are not myelinated.\n",
      "\n",
      "5.  The myelinated nerve fibers are not myelinated.\n",
      "\n",
      "6.  The myelinated nerve fibers are not\n"
     ]
    }
   ],
   "source": [
    "# base model test\n",
    "val_text = val_dataset[0]['question']\n",
    "print(\"Question input (test):\", val_text)\n",
    "print(f\"Correct answer: {val_dataset[0]['cop']}, {val_dataset[0]['exp']}\")\n",
    "print(\"Model's answer: \")\n",
    "print(inference(val_text, base_model, tokenizer))"
   ]
  },
  {
   "cell_type": "markdown",
   "id": "f942c236-d357-4274-8e4b-2b0e3bafca50",
   "metadata": {},
   "source": [
    "### Set Up Training"
   ]
  },
  {
   "cell_type": "code",
   "execution_count": 10,
   "id": "e63a71bf-7ead-400f-9d3e-22a0e9ac7f55",
   "metadata": {},
   "outputs": [],
   "source": [
    "max_steps = 5 # experiment w/ val"
   ]
  },
  {
   "cell_type": "code",
   "execution_count": 11,
   "id": "2c94d7b3-4c44-45fb-9f5a-7cb50bdcb15f",
   "metadata": {},
   "outputs": [],
   "source": [
    "trained_model_name = f\"medmcqa_{max_steps}_steps_{datetime.now()}\"\n",
    "output_dir = \"models\""
   ]
  },
  {
   "cell_type": "code",
   "execution_count": 31,
   "id": "48bc980e-0c54-4b70-ac29-77a854707bd1",
   "metadata": {},
   "outputs": [],
   "source": [
    "training_args = TrainingArguments(\n",
    "\n",
    "  # Learning rate\n",
    "  learning_rate=1.0e-5,\n",
    "\n",
    "  # Number of training epochs\n",
    "  num_train_epochs=1,\n",
    "\n",
    "  # Max steps to train for (each step is a batch of data)\n",
    "  # Overrides num_train_epochs, if not -1\n",
    "  max_steps=max_steps,\n",
    "\n",
    "  # Batch size for training\n",
    "  per_device_train_batch_size=1,\n",
    "\n",
    "  # Directory to save model checkpoints\n",
    "  output_dir=output_dir,\n",
    "\n",
    "  # Other arguments\n",
    "  overwrite_output_dir=False, # Overwrite the content of the output directory\n",
    "  disable_tqdm=False, # Disable progress bars\n",
    "  eval_steps=120, # Number of update steps between two evaluations\n",
    "  save_steps=120, # After # steps model is saved\n",
    "  warmup_steps=1, # Number of warmup steps for learning rate scheduler\n",
    "  per_device_eval_batch_size=1, # Batch size for evaluation\n",
    "  evaluation_strategy=\"steps\",\n",
    "  logging_strategy=\"steps\",\n",
    "  logging_steps=1,\n",
    "  optim=\"adafactor\",\n",
    "  gradient_accumulation_steps = 4,\n",
    "  gradient_checkpointing=False,\n",
    "\n",
    "  # Parameters for early stopping\n",
    "  load_best_model_at_end=True,\n",
    "  save_total_limit=1,\n",
    "  metric_for_best_model=\"eval_loss\",\n",
    "  greater_is_better=False,\n",
    "\n",
    "  remove_unused_columns=False\n",
    "\n",
    ")"
   ]
  },
  {
   "cell_type": "code",
   "execution_count": 32,
   "id": "006cf234-f407-4d32-8f53-c2c13bc2fe3a",
   "metadata": {},
   "outputs": [
    {
     "name": "stdout",
     "output_type": "stream",
     "text": [
      "GPTNeoXForCausalLM(\n",
      "  (gpt_neox): GPTNeoXModel(\n",
      "    (embed_in): Embedding(50304, 1024)\n",
      "    (emb_dropout): Dropout(p=0.0, inplace=False)\n",
      "    (layers): ModuleList(\n",
      "      (0-23): 24 x GPTNeoXLayer(\n",
      "        (input_layernorm): LayerNorm((1024,), eps=1e-05, elementwise_affine=True)\n",
      "        (post_attention_layernorm): LayerNorm((1024,), eps=1e-05, elementwise_affine=True)\n",
      "        (post_attention_dropout): Dropout(p=0.0, inplace=False)\n",
      "        (post_mlp_dropout): Dropout(p=0.0, inplace=False)\n",
      "        (attention): GPTNeoXAttention(\n",
      "          (rotary_emb): GPTNeoXRotaryEmbedding()\n",
      "          (query_key_value): Linear(in_features=1024, out_features=3072, bias=True)\n",
      "          (dense): Linear(in_features=1024, out_features=1024, bias=True)\n",
      "          (attention_dropout): Dropout(p=0.0, inplace=False)\n",
      "        )\n",
      "        (mlp): GPTNeoXMLP(\n",
      "          (dense_h_to_4h): Linear(in_features=1024, out_features=4096, bias=True)\n",
      "          (dense_4h_to_h): Linear(in_features=4096, out_features=1024, bias=True)\n",
      "          (act): GELUActivation()\n",
      "        )\n",
      "      )\n",
      "    )\n",
      "    (final_layer_norm): LayerNorm((1024,), eps=1e-05, elementwise_affine=True)\n",
      "  )\n",
      "  (embed_out): Linear(in_features=1024, out_features=50304, bias=False)\n",
      ")\n",
      "Memory footprint 1.72829168 GB\n",
      "Flops 17391.09433344 GFLOPs\n"
     ]
    }
   ],
   "source": [
    "model_flops = (\n",
    "  base_model.floating_point_ops(\n",
    "    {\n",
    "       \"input_ids\": torch.zeros(\n",
    "           (1, training_config[\"model\"][\"max_length\"])\n",
    "      )\n",
    "    }\n",
    "  )\n",
    "  * training_args.gradient_accumulation_steps\n",
    ")\n",
    "\n",
    "print(base_model)\n",
    "print(\"Memory footprint\", base_model.get_memory_footprint() / 1e9, \"GB\")\n",
    "print(\"Flops\", model_flops / 1e9, \"GFLOPs\")"
   ]
  },
  {
   "cell_type": "code",
   "execution_count": 33,
   "id": "7b267c94-f17f-4c60-bbda-312b28fb37ba",
   "metadata": {},
   "outputs": [],
   "source": [
    "trainer = Trainer(\n",
    "    model=base_model,\n",
    "    model_flops=model_flops,\n",
    "    total_steps=max_steps,\n",
    "    args=training_args,\n",
    "    train_dataset=train_dataset,\n",
    "    eval_dataset=val_dataset,\n",
    ")"
   ]
  },
  {
   "cell_type": "markdown",
   "id": "55b13ecc-1ea3-4a93-b154-aab82c3ca8d9",
   "metadata": {},
   "source": [
    "### Training"
   ]
  },
  {
   "cell_type": "code",
   "execution_count": 34,
   "id": "324271ee-1c91-4adb-bfeb-d086944fe1be",
   "metadata": {
    "scrolled": true
   },
   "outputs": [
    {
     "ename": "KeyError",
     "evalue": "'input_ids'",
     "output_type": "error",
     "traceback": [
      "\u001b[0;31m---------------------------------------------------------------------------\u001b[0m",
      "\u001b[0;31mKeyError\u001b[0m                                  Traceback (most recent call last)",
      "Cell \u001b[0;32mIn[34], line 1\u001b[0m\n\u001b[0;32m----> 1\u001b[0m training_output \u001b[38;5;241m=\u001b[39m \u001b[43mtrainer\u001b[49m\u001b[38;5;241;43m.\u001b[39;49m\u001b[43mtrain\u001b[49m\u001b[43m(\u001b[49m\u001b[43m)\u001b[49m\n",
      "File \u001b[0;32m~/anaconda3/envs/rag-experimentation/lib/python3.11/site-packages/transformers/trainer.py:1555\u001b[0m, in \u001b[0;36mTrainer.train\u001b[0;34m(self, resume_from_checkpoint, trial, ignore_keys_for_eval, **kwargs)\u001b[0m\n\u001b[1;32m   1553\u001b[0m         hf_hub_utils\u001b[38;5;241m.\u001b[39menable_progress_bars()\n\u001b[1;32m   1554\u001b[0m \u001b[38;5;28;01melse\u001b[39;00m:\n\u001b[0;32m-> 1555\u001b[0m     \u001b[38;5;28;01mreturn\u001b[39;00m \u001b[43minner_training_loop\u001b[49m\u001b[43m(\u001b[49m\n\u001b[1;32m   1556\u001b[0m \u001b[43m        \u001b[49m\u001b[43margs\u001b[49m\u001b[38;5;241;43m=\u001b[39;49m\u001b[43margs\u001b[49m\u001b[43m,\u001b[49m\n\u001b[1;32m   1557\u001b[0m \u001b[43m        \u001b[49m\u001b[43mresume_from_checkpoint\u001b[49m\u001b[38;5;241;43m=\u001b[39;49m\u001b[43mresume_from_checkpoint\u001b[49m\u001b[43m,\u001b[49m\n\u001b[1;32m   1558\u001b[0m \u001b[43m        \u001b[49m\u001b[43mtrial\u001b[49m\u001b[38;5;241;43m=\u001b[39;49m\u001b[43mtrial\u001b[49m\u001b[43m,\u001b[49m\n\u001b[1;32m   1559\u001b[0m \u001b[43m        \u001b[49m\u001b[43mignore_keys_for_eval\u001b[49m\u001b[38;5;241;43m=\u001b[39;49m\u001b[43mignore_keys_for_eval\u001b[49m\u001b[43m,\u001b[49m\n\u001b[1;32m   1560\u001b[0m \u001b[43m    \u001b[49m\u001b[43m)\u001b[49m\n",
      "File \u001b[0;32m~/anaconda3/envs/rag-experimentation/lib/python3.11/site-packages/transformers/trainer.py:1860\u001b[0m, in \u001b[0;36mTrainer._inner_training_loop\u001b[0;34m(self, batch_size, args, resume_from_checkpoint, trial, ignore_keys_for_eval)\u001b[0m\n\u001b[1;32m   1857\u001b[0m     \u001b[38;5;28mself\u001b[39m\u001b[38;5;241m.\u001b[39mcontrol \u001b[38;5;241m=\u001b[39m \u001b[38;5;28mself\u001b[39m\u001b[38;5;241m.\u001b[39mcallback_handler\u001b[38;5;241m.\u001b[39mon_step_begin(args, \u001b[38;5;28mself\u001b[39m\u001b[38;5;241m.\u001b[39mstate, \u001b[38;5;28mself\u001b[39m\u001b[38;5;241m.\u001b[39mcontrol)\n\u001b[1;32m   1859\u001b[0m \u001b[38;5;28;01mwith\u001b[39;00m \u001b[38;5;28mself\u001b[39m\u001b[38;5;241m.\u001b[39maccelerator\u001b[38;5;241m.\u001b[39maccumulate(model):\n\u001b[0;32m-> 1860\u001b[0m     tr_loss_step \u001b[38;5;241m=\u001b[39m \u001b[38;5;28;43mself\u001b[39;49m\u001b[38;5;241;43m.\u001b[39;49m\u001b[43mtraining_step\u001b[49m\u001b[43m(\u001b[49m\u001b[43mmodel\u001b[49m\u001b[43m,\u001b[49m\u001b[43m \u001b[49m\u001b[43minputs\u001b[49m\u001b[43m)\u001b[49m\n\u001b[1;32m   1862\u001b[0m \u001b[38;5;28;01mif\u001b[39;00m (\n\u001b[1;32m   1863\u001b[0m     args\u001b[38;5;241m.\u001b[39mlogging_nan_inf_filter\n\u001b[1;32m   1864\u001b[0m     \u001b[38;5;129;01mand\u001b[39;00m \u001b[38;5;129;01mnot\u001b[39;00m is_torch_tpu_available()\n\u001b[1;32m   1865\u001b[0m     \u001b[38;5;129;01mand\u001b[39;00m (torch\u001b[38;5;241m.\u001b[39misnan(tr_loss_step) \u001b[38;5;129;01mor\u001b[39;00m torch\u001b[38;5;241m.\u001b[39misinf(tr_loss_step))\n\u001b[1;32m   1866\u001b[0m ):\n\u001b[1;32m   1867\u001b[0m     \u001b[38;5;66;03m# if loss is nan or inf simply add the average of previous logged losses\u001b[39;00m\n\u001b[1;32m   1868\u001b[0m     tr_loss \u001b[38;5;241m+\u001b[39m\u001b[38;5;241m=\u001b[39m tr_loss \u001b[38;5;241m/\u001b[39m (\u001b[38;5;241m1\u001b[39m \u001b[38;5;241m+\u001b[39m \u001b[38;5;28mself\u001b[39m\u001b[38;5;241m.\u001b[39mstate\u001b[38;5;241m.\u001b[39mglobal_step \u001b[38;5;241m-\u001b[39m \u001b[38;5;28mself\u001b[39m\u001b[38;5;241m.\u001b[39m_globalstep_last_logged)\n",
      "File \u001b[0;32m~/Downloads/Work/NLP/vision_encoding_playground/utilities.py:260\u001b[0m, in \u001b[0;36mTrainer.training_step\u001b[0;34m(self, model, inputs)\u001b[0m\n\u001b[1;32m    259\u001b[0m \u001b[38;5;28;01mdef\u001b[39;00m \u001b[38;5;21mtraining_step\u001b[39m(\u001b[38;5;28mself\u001b[39m, model, inputs):\n\u001b[0;32m--> 260\u001b[0m     \u001b[38;5;28;01mif\u001b[39;00m \u001b[43minputs\u001b[49m\u001b[43m[\u001b[49m\u001b[38;5;124;43m\"\u001b[39;49m\u001b[38;5;124;43minput_ids\u001b[39;49m\u001b[38;5;124;43m\"\u001b[39;49m\u001b[43m]\u001b[49m\u001b[38;5;241m.\u001b[39mnumel() \u001b[38;5;241m==\u001b[39m \u001b[38;5;241m0\u001b[39m:\n\u001b[1;32m    262\u001b[0m       \u001b[38;5;28mprint\u001b[39m(\u001b[38;5;124m\"\u001b[39m\u001b[38;5;124mInputs: \u001b[39m\u001b[38;5;124m\"\u001b[39m, inputs)\n\u001b[1;32m    263\u001b[0m       \u001b[38;5;28mprint\u001b[39m(\u001b[38;5;124m\"\u001b[39m\u001b[38;5;124mInputs - input_ids\u001b[39m\u001b[38;5;124m\"\u001b[39m, inputs[\u001b[38;5;124m\"\u001b[39m\u001b[38;5;124minput_ids\u001b[39m\u001b[38;5;124m\"\u001b[39m])\n",
      "\u001b[0;31mKeyError\u001b[0m: 'input_ids'"
     ]
    }
   ],
   "source": [
    "training_output = trainer.train()"
   ]
  },
  {
   "cell_type": "code",
   "execution_count": null,
   "id": "8f9d6a80-e3f1-40e3-a9ff-6f10c59beb7e",
   "metadata": {},
   "outputs": [],
   "source": []
  }
 ],
 "metadata": {
  "kernelspec": {
   "display_name": "Python 3 (ipykernel)",
   "language": "python",
   "name": "python3"
  },
  "language_info": {
   "codemirror_mode": {
    "name": "ipython",
    "version": 3
   },
   "file_extension": ".py",
   "mimetype": "text/x-python",
   "name": "python",
   "nbconvert_exporter": "python",
   "pygments_lexer": "ipython3",
   "version": "3.11.5"
  }
 },
 "nbformat": 4,
 "nbformat_minor": 5
}
